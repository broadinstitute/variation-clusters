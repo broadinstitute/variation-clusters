{
 "cells": [
  {
   "cell_type": "markdown",
   "id": "df32da62-c62f-4aa0-a693-413618d5c66e",
   "metadata": {},
   "source": [
    "# Defining high-quality repeat catalogs"
   ]
  },
  {
   "cell_type": "markdown",
   "id": "1c6619d2-6f28-4035-a95e-eb2eb2447710",
   "metadata": {},
   "source": [
    "## Authors\n",
    "- Ben Weisburd, Broad Institute\n",
    "- Egor Dolzhenko, PacBio"
   ]
  },
  {
   "cell_type": "markdown",
   "id": "8da18888-ccdb-4bd4-a5c1-d89ab14ac967",
   "metadata": {},
   "source": [
    "## Introduction"
   ]
  },
  {
   "cell_type": "markdown",
   "id": "b615ec41-fa04-4efb-8cf3-24ceaf770a6c",
   "metadata": {},
   "source": [
    "Tandem repeats are regions of the genome that consist of consecutive copies of some motif sequence. For example, `CAGCAGCAG` is a tandem repeats with motif `CAG`. Many types of genomic studies require annotations of tandem repeats in the reference genome, called repeat catalogs. Repeat catalogs typically consist of the repeat reference coordinates and one or multiple motif sequences that the repeat is composed of."
   ]
  },
  {
   "cell_type": "markdown",
   "id": "1fd2b3d1-b6cf-408e-8252-23666e388269",
   "metadata": {},
   "source": [
    "The purpose of this tutorial is to explain how to define high-quality repeat catalogs. Our initial focus will be on the human genome, however the tutorial should also be applicable to other closely-related genomes. We'd also love to extend this work to plants and other species. Please consider creating a GitHub issue or reaching out by email if you are interested in this."
   ]
  },
  {
   "cell_type": "markdown",
   "id": "b7287f6f-6e35-4847-a2b3-3915f747821d",
   "metadata": {},
   "source": [
    "## Step 1: Generate the core repeat catalog"
   ]
  },
  {
   "cell_type": "markdown",
   "id": "6071ce10-e9cf-4c64-b0e1-a7fd93b8861e",
   "metadata": {},
   "source": [
    "The analysis steps are outlined in [a blog post here](https://bw2.github.io/2023-11-12-defining-genome-wide-TR-catalogs.html). See the technical details section."
   ]
  },
  {
   "cell_type": "markdown",
   "id": "fbfd3d0a-da9b-4095-9965-fe29d2196291",
   "metadata": {},
   "source": [
    "## Step 2: Resolve complex repeat regions by performing variation cluster analysis"
   ]
  },
  {
   "cell_type": "markdown",
   "id": "729dad69-c290-49ab-9f36-654b6b227d25",
   "metadata": {},
   "source": [
    "The high level strategy is described in [this AGBT poster](https://www.pacb.com/wp-content/uploads/AGBT-2024-Poster-Egor-Dolzhenko.pdf). We are planning to complete this section by the end of 2024Q2."
   ]
  }
 ],
 "metadata": {
  "kernelspec": {
   "display_name": "Python 3 (ipykernel)",
   "language": "python",
   "name": "python3"
  },
  "language_info": {
   "codemirror_mode": {
    "name": "ipython",
    "version": 3
   },
   "file_extension": ".py",
   "mimetype": "text/x-python",
   "name": "python",
   "nbconvert_exporter": "python",
   "pygments_lexer": "ipython3",
   "version": "3.10.12"
  }
 },
 "nbformat": 4,
 "nbformat_minor": 5
}
