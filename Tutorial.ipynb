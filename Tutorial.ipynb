{
 "cells": [
  {
   "cell_type": "markdown",
   "id": "df32da62-c62f-4aa0-a693-413618d5c66e",
   "metadata": {},
   "source": [
    "# Defining high-quality repeat catalogs"
   ]
  },
  {
   "cell_type": "markdown",
   "id": "1c6619d2-6f28-4035-a95e-eb2eb2447710",
   "metadata": {},
   "source": [
    "## Authors\n",
    "- Ben Weisburd, Broad Institute\n",
    "- Egor Dolzhenko, PacBio"
   ]
  },
  {
   "cell_type": "markdown",
   "id": "8da18888-ccdb-4bd4-a5c1-d89ab14ac967",
   "metadata": {},
   "source": [
    "## Introduction"
   ]
  },
  {
   "cell_type": "markdown",
   "id": "b615ec41-fa04-4efb-8cf3-24ceaf770a6c",
   "metadata": {},
   "source": [
    "Tandem repeats are regions of the genome that consist of consecutive copies of some motif sequence. For example, `CAGCAGCAG` is a tandem repeats with motif `CAG`. Many types of genomic studies require annotations of tandem repeats in the reference genome, called repeat catalogs. Repeat catalogs typically consist of the repeat reference coordinates and one or multiple motif sequences that the repeat is composed of."
   ]
  },
  {
   "cell_type": "markdown",
   "id": "1fd2b3d1-b6cf-408e-8252-23666e388269",
   "metadata": {},
   "source": [
    "The purpose of this tutorial is to explain how to define high-quality repeat catalogs. Our initial focus will be on the human genome, however the tutorial should also be applicable to other closely-related genomes. We'd also love to extend this work to plants and other species. Please consider creating a GitHub issue or reaching out by email if you are interested in this."
   ]
  },
  {
   "cell_type": "markdown",
   "id": "729dad69-c290-49ab-9f36-654b6b227d25",
   "metadata": {},
   "source": [
    "The high level strategy is described in [this AGBT poster](https://www.pacb.com/wp-content/uploads/AGBT-2024-Poster-Egor-Dolzhenko.pdf). To prepare for this analysis, do the following:\n",
    "- Download the variation cluster analysis tool `vclust` from here: https://github.com/PacificBiosciences/vclust\n",
    "- Obtain between 10 and 100 WGS HiFi BAM files with reads aligned to your target reference genome\n",
    "- Install the latest version of bedtools: https://bedtools.readthedocs.io/en/latest/"
   ]
  },
  {
   "cell_type": "markdown",
   "id": "b7287f6f-6e35-4847-a2b3-3915f747821d",
   "metadata": {},
   "source": [
    "## Step 1: Generate the core repeat catalog"
   ]
  },
  {
   "cell_type": "markdown",
   "id": "6071ce10-e9cf-4c64-b0e1-a7fd93b8861e",
   "metadata": {},
   "source": [
    "The analysis steps are outlined in [a blog post here](https://bw2.github.io/2023-11-12-defining-genome-wide-TR-catalogs.html). See the technical details section."
   ]
  },
  {
   "cell_type": "markdown",
   "id": "fbfd3d0a-da9b-4095-9965-fe29d2196291",
   "metadata": {},
   "source": [
    "## Step 2: Call variation cluster analysis for each repeat in the catalog"
   ]
  },
  {
   "cell_type": "markdown",
   "id": "70a1fb55",
   "metadata": {},
   "source": [
    "Call variation clusters which are informed by variation in all of your BAM files:"
   ]
  },
  {
   "cell_type": "code",
   "execution_count": 8,
   "id": "81ae927d",
   "metadata": {},
   "outputs": [],
   "source": [
    "%%bash\n",
    "\n",
    "./vclust --genome genome.fa --reads bams/*.bam --regions core_tr_catalog.bed > variation_clusters.txt"
   ]
  },
  {
   "cell_type": "markdown",
   "id": "8ce1a622",
   "metadata": {},
   "source": [
    "Generate a BED file with variation clusters:"
   ]
  },
  {
   "cell_type": "code",
   "execution_count": 15,
   "id": "d096773a",
   "metadata": {},
   "outputs": [],
   "source": [
    "%%bash\n",
    "\n",
    "grep -v \"NA\" variation_clusters.txt \\\n",
    "    | awk '{OFS=\"\\t\"; print $5, $1}' \\\n",
    "    | awk -F \"[\\t:-]\" '{OFS=\"\\t\"; print $1, $2, $3, $0}' \\\n",
    "    | cut -f 1-3,5 \\\n",
    "    | sort -k 1,1 -k 2,2n -k 3,3n \\\n",
    "    > raw_variation_clusters.bed"
   ]
  },
  {
   "cell_type": "markdown",
   "id": "0bd04d0f",
   "metadata": {},
   "source": [
    "## Step 3: Merge variation clusters"
   ]
  },
  {
   "cell_type": "markdown",
   "id": "ec359322",
   "metadata": {},
   "source": [
    "Use bedtools to merge overlapping variation clusters:"
   ]
  },
  {
   "cell_type": "code",
   "execution_count": 36,
   "id": "d2735188",
   "metadata": {},
   "outputs": [],
   "source": [
    "recs = ! bedtools merge -c 4 -o collapse -i raw_variation_clusters.bed"
   ]
  },
  {
   "cell_type": "markdown",
   "id": "f3c7bc66",
   "metadata": {},
   "source": [
    "Reformat the output into a valid TRGT repeat catalog (`variation_clusters.bed`):"
   ]
  },
  {
   "cell_type": "code",
   "execution_count": 37,
   "id": "853af3ed",
   "metadata": {},
   "outputs": [],
   "source": [
    "def merge_names(names):\n",
    "    if \",\" not in names:\n",
    "        return names\n",
    "    names = names.split(\",\")\n",
    "    ids = []\n",
    "    motifs = []\n",
    "    for name in names:\n",
    "        trid = name.split(\";\")[0].replace(\"ID=\", \"\")\n",
    "        tr_motifs = name.split(\";\")[1].replace(\"MOTIFS=\", \"\").split(\",\")\n",
    "        ids.append(trid)\n",
    "        motifs.extend(tr_motifs)\n",
    "    assert len(ids) == len(set(ids))\n",
    "    ids = \",\".join(ids)\n",
    "    motifs = list(set(motifs))\n",
    "    struc = \"\".join([f\"({motif})n\" for motif in motifs])\n",
    "    motifs = \",\".join(motifs)\n",
    "    return f\"ID={ids};MOTIFS={motifs};STRUC={struc}\"\n",
    "\n",
    "\n",
    "with open(\"variation_clusters.bed\", \"w\") as file:\n",
    "    for rec in recs:\n",
    "        chrom, start, end, names = rec.split()\n",
    "        name = merge_names(names)\n",
    "        print(f\"{chrom}\\t{start}\\t{end}\\t{name}\", file=file)"
   ]
  },
  {
   "cell_type": "markdown",
   "id": "e4fe2b40",
   "metadata": {},
   "source": [
    "The variation clusters in `variation_clusters.bed` can now be genotyped with TRGT."
   ]
  }
 ],
 "metadata": {
  "kernelspec": {
   "display_name": "Python 3 (ipykernel)",
   "language": "python",
   "name": "python3"
  },
  "language_info": {
   "codemirror_mode": {
    "name": "ipython",
    "version": 3
   },
   "file_extension": ".py",
   "mimetype": "text/x-python",
   "name": "python",
   "nbconvert_exporter": "python",
   "pygments_lexer": "ipython3",
   "version": "3.10.8"
  }
 },
 "nbformat": 4,
 "nbformat_minor": 5
}
